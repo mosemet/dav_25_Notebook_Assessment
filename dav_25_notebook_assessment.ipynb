{
 "cells": [
  {
   "cell_type": "markdown",
   "metadata": {},
   "source": [
    "# Assessment"
   ]
  },
  {
   "cell_type": "markdown",
   "metadata": {},
   "source": [
    "### Question 1\n",
    "\n",
    "Using the taiChiData.csv dataset, study the effect of treatment after 24 weeks. \n"
   ]
  },
  {
   "cell_type": "markdown",
   "metadata": {},
   "source": [
    "#### Question 1.1\n",
    "Plot a box-and-whisker plot to see the mean difference between 24 weeks and the baseline. Formulate a hypothesis about treatment after 24 weeks. Interpret the results obtained.\n"
   ]
  },
  {
   "cell_type": "code",
   "execution_count": 149,
   "metadata": {},
   "outputs": [],
   "source": [
    "import pandas as pd\n",
    "import numpy as np\n",
    "import seaborn as sns\n",
    "import matplotlib.pyplot as plt\n",
    "import scipy.stats as stats"
   ]
  },
  {
   "cell_type": "code",
   "execution_count": 150,
   "metadata": {},
   "outputs": [],
   "source": [
    "%matplotlib inline"
   ]
  },
  {
   "cell_type": "code",
   "execution_count": 151,
   "metadata": {},
   "outputs": [
    {
     "name": "stdout",
     "output_type": "stream",
     "text": [
      "C:\\Users\\Teboho\\Desktop\\ALU\\DAV\\DAV_25_Notebook_Assessment\n"
     ]
    }
   ],
   "source": [
    "%cd C:\\Users\\Teboho\\Desktop\\ALU\\DAV\\DAV_25_Notebook_Assessment"
   ]
  },
  {
   "cell_type": "code",
   "execution_count": 152,
   "metadata": {},
   "outputs": [],
   "source": [
    "data = pd.read_csv('taiChiData.csv', sep=',')"
   ]
  },
  {
   "cell_type": "code",
   "execution_count": 153,
   "metadata": {},
   "outputs": [
    {
     "data": {
      "text/html": [
       "<div>\n",
       "<style scoped>\n",
       "    .dataframe tbody tr th:only-of-type {\n",
       "        vertical-align: middle;\n",
       "    }\n",
       "\n",
       "    .dataframe tbody tr th {\n",
       "        vertical-align: top;\n",
       "    }\n",
       "\n",
       "    .dataframe thead th {\n",
       "        text-align: right;\n",
       "    }\n",
       "</style>\n",
       "<table border=\"1\" class=\"dataframe\">\n",
       "  <thead>\n",
       "    <tr style=\"text-align: right;\">\n",
       "      <th></th>\n",
       "      <th>Unnamed: 0</th>\n",
       "      <th>Id</th>\n",
       "      <th>sex</th>\n",
       "      <th>BMI</th>\n",
       "      <th>duration</th>\n",
       "      <th>age</th>\n",
       "      <th>treatment</th>\n",
       "      <th>coexists</th>\n",
       "      <th>FIQ_baseline</th>\n",
       "      <th>FIQ_12W</th>\n",
       "      <th>FIQ_24W</th>\n",
       "    </tr>\n",
       "  </thead>\n",
       "  <tbody>\n",
       "    <tr>\n",
       "      <th>0</th>\n",
       "      <td>1</td>\n",
       "      <td>22</td>\n",
       "      <td>1</td>\n",
       "      <td>45.9</td>\n",
       "      <td>13.3</td>\n",
       "      <td>56.25</td>\n",
       "      <td>control</td>\n",
       "      <td>none</td>\n",
       "      <td>57.0</td>\n",
       "      <td>52.0</td>\n",
       "      <td>50.0</td>\n",
       "    </tr>\n",
       "    <tr>\n",
       "      <th>1</th>\n",
       "      <td>2</td>\n",
       "      <td>11</td>\n",
       "      <td>1</td>\n",
       "      <td>28.7</td>\n",
       "      <td>9.2</td>\n",
       "      <td>47.21</td>\n",
       "      <td>control</td>\n",
       "      <td>hypertension</td>\n",
       "      <td>85.0</td>\n",
       "      <td>88.0</td>\n",
       "      <td>85.0</td>\n",
       "    </tr>\n",
       "    <tr>\n",
       "      <th>2</th>\n",
       "      <td>3</td>\n",
       "      <td>36</td>\n",
       "      <td>1</td>\n",
       "      <td>35.5</td>\n",
       "      <td>6.7</td>\n",
       "      <td>59.56</td>\n",
       "      <td>tai chi</td>\n",
       "      <td>hypertension</td>\n",
       "      <td>83.0</td>\n",
       "      <td>68.0</td>\n",
       "      <td>68.0</td>\n",
       "    </tr>\n",
       "    <tr>\n",
       "      <th>3</th>\n",
       "      <td>4</td>\n",
       "      <td>1</td>\n",
       "      <td>1</td>\n",
       "      <td>29.8</td>\n",
       "      <td>17.1</td>\n",
       "      <td>43.44</td>\n",
       "      <td>control</td>\n",
       "      <td>diabetes</td>\n",
       "      <td>74.0</td>\n",
       "      <td>60.0</td>\n",
       "      <td>62.0</td>\n",
       "    </tr>\n",
       "    <tr>\n",
       "      <th>4</th>\n",
       "      <td>5</td>\n",
       "      <td>9</td>\n",
       "      <td>1</td>\n",
       "      <td>34.0</td>\n",
       "      <td>12.2</td>\n",
       "      <td>49.99</td>\n",
       "      <td>control</td>\n",
       "      <td>heart disease</td>\n",
       "      <td>68.0</td>\n",
       "      <td>55.0</td>\n",
       "      <td>56.0</td>\n",
       "    </tr>\n",
       "  </tbody>\n",
       "</table>\n",
       "</div>"
      ],
      "text/plain": [
       "   Unnamed: 0  Id  sex   BMI  duration    age treatment       coexists  \\\n",
       "0           1  22    1  45.9      13.3  56.25   control           none   \n",
       "1           2  11    1  28.7       9.2  47.21   control   hypertension   \n",
       "2           3  36    1  35.5       6.7  59.56   tai chi   hypertension   \n",
       "3           4   1    1  29.8      17.1  43.44   control       diabetes   \n",
       "4           5   9    1  34.0      12.2  49.99   control  heart disease   \n",
       "\n",
       "   FIQ_baseline  FIQ_12W  FIQ_24W  \n",
       "0          57.0     52.0     50.0  \n",
       "1          85.0     88.0     85.0  \n",
       "2          83.0     68.0     68.0  \n",
       "3          74.0     60.0     62.0  \n",
       "4          68.0     55.0     56.0  "
      ]
     },
     "execution_count": 153,
     "metadata": {},
     "output_type": "execute_result"
    }
   ],
   "source": [
    "data.head()"
   ]
  },
  {
   "cell_type": "code",
   "execution_count": 154,
   "metadata": {},
   "outputs": [],
   "source": [
    "data.dropna(inplace = True)# enter code to drop rows with missing values \n",
    "data.drop_duplicates(inplace=True)"
   ]
  },
  {
   "cell_type": "code",
   "execution_count": 155,
   "metadata": {},
   "outputs": [
    {
     "data": {
      "text/html": [
       "<div>\n",
       "<style scoped>\n",
       "    .dataframe tbody tr th:only-of-type {\n",
       "        vertical-align: middle;\n",
       "    }\n",
       "\n",
       "    .dataframe tbody tr th {\n",
       "        vertical-align: top;\n",
       "    }\n",
       "\n",
       "    .dataframe thead th {\n",
       "        text-align: right;\n",
       "    }\n",
       "</style>\n",
       "<table border=\"1\" class=\"dataframe\">\n",
       "  <thead>\n",
       "    <tr style=\"text-align: right;\">\n",
       "      <th></th>\n",
       "      <th>Unnamed: 0</th>\n",
       "      <th>Id</th>\n",
       "      <th>sex</th>\n",
       "      <th>BMI</th>\n",
       "      <th>duration</th>\n",
       "      <th>age</th>\n",
       "      <th>FIQ_baseline</th>\n",
       "      <th>FIQ_12W</th>\n",
       "      <th>FIQ_24W</th>\n",
       "    </tr>\n",
       "    <tr>\n",
       "      <th>treatment</th>\n",
       "      <th></th>\n",
       "      <th></th>\n",
       "      <th></th>\n",
       "      <th></th>\n",
       "      <th></th>\n",
       "      <th></th>\n",
       "      <th></th>\n",
       "      <th></th>\n",
       "      <th></th>\n",
       "    </tr>\n",
       "  </thead>\n",
       "  <tbody>\n",
       "    <tr>\n",
       "      <th>control</th>\n",
       "      <td>22.653846</td>\n",
       "      <td>22.461538</td>\n",
       "      <td>0.846154</td>\n",
       "      <td>34.492308</td>\n",
       "      <td>13.080769</td>\n",
       "      <td>50.290769</td>\n",
       "      <td>66.115385</td>\n",
       "      <td>60.923077</td>\n",
       "      <td>61.730769</td>\n",
       "    </tr>\n",
       "    <tr>\n",
       "      <th>tai chi</th>\n",
       "      <td>28.615385</td>\n",
       "      <td>31.923077</td>\n",
       "      <td>0.615385</td>\n",
       "      <td>32.630769</td>\n",
       "      <td>12.361538</td>\n",
       "      <td>48.811538</td>\n",
       "      <td>66.153846</td>\n",
       "      <td>55.923077</td>\n",
       "      <td>55.000000</td>\n",
       "    </tr>\n",
       "  </tbody>\n",
       "</table>\n",
       "</div>"
      ],
      "text/plain": [
       "           Unnamed: 0         Id       sex        BMI   duration        age  \\\n",
       "treatment                                                                     \n",
       "control     22.653846  22.461538  0.846154  34.492308  13.080769  50.290769   \n",
       "tai chi     28.615385  31.923077  0.615385  32.630769  12.361538  48.811538   \n",
       "\n",
       "           FIQ_baseline    FIQ_12W    FIQ_24W  \n",
       "treatment                                      \n",
       "control       66.115385  60.923077  61.730769  \n",
       "tai chi       66.153846  55.923077  55.000000  "
      ]
     },
     "execution_count": 155,
     "metadata": {},
     "output_type": "execute_result"
    }
   ],
   "source": [
    "treatment1 = data.groupby('treatment').mean()\n",
    "treatment1"
   ]
  },
  {
   "cell_type": "code",
   "execution_count": 156,
   "metadata": {},
   "outputs": [
    {
     "data": {
      "text/html": [
       "<div>\n",
       "<style scoped>\n",
       "    .dataframe tbody tr th:only-of-type {\n",
       "        vertical-align: middle;\n",
       "    }\n",
       "\n",
       "    .dataframe tbody tr th {\n",
       "        vertical-align: top;\n",
       "    }\n",
       "\n",
       "    .dataframe thead th {\n",
       "        text-align: right;\n",
       "    }\n",
       "</style>\n",
       "<table border=\"1\" class=\"dataframe\">\n",
       "  <thead>\n",
       "    <tr style=\"text-align: right;\">\n",
       "      <th></th>\n",
       "      <th>Unnamed: 0</th>\n",
       "      <th>Id</th>\n",
       "      <th>sex</th>\n",
       "      <th>BMI</th>\n",
       "      <th>duration</th>\n",
       "      <th>age</th>\n",
       "      <th>treatment</th>\n",
       "      <th>coexists</th>\n",
       "      <th>FIQ_baseline</th>\n",
       "      <th>FIQ_12W</th>\n",
       "      <th>FIQ_24W</th>\n",
       "      <th>difference</th>\n",
       "    </tr>\n",
       "  </thead>\n",
       "  <tbody>\n",
       "    <tr>\n",
       "      <th>0</th>\n",
       "      <td>1</td>\n",
       "      <td>22</td>\n",
       "      <td>1</td>\n",
       "      <td>45.9</td>\n",
       "      <td>13.3</td>\n",
       "      <td>56.25</td>\n",
       "      <td>control</td>\n",
       "      <td>none</td>\n",
       "      <td>57.0</td>\n",
       "      <td>52.0</td>\n",
       "      <td>50.0</td>\n",
       "      <td>7.0</td>\n",
       "    </tr>\n",
       "    <tr>\n",
       "      <th>1</th>\n",
       "      <td>2</td>\n",
       "      <td>11</td>\n",
       "      <td>1</td>\n",
       "      <td>28.7</td>\n",
       "      <td>9.2</td>\n",
       "      <td>47.21</td>\n",
       "      <td>control</td>\n",
       "      <td>hypertension</td>\n",
       "      <td>85.0</td>\n",
       "      <td>88.0</td>\n",
       "      <td>85.0</td>\n",
       "      <td>0.0</td>\n",
       "    </tr>\n",
       "    <tr>\n",
       "      <th>2</th>\n",
       "      <td>3</td>\n",
       "      <td>36</td>\n",
       "      <td>1</td>\n",
       "      <td>35.5</td>\n",
       "      <td>6.7</td>\n",
       "      <td>59.56</td>\n",
       "      <td>tai chi</td>\n",
       "      <td>hypertension</td>\n",
       "      <td>83.0</td>\n",
       "      <td>68.0</td>\n",
       "      <td>68.0</td>\n",
       "      <td>15.0</td>\n",
       "    </tr>\n",
       "    <tr>\n",
       "      <th>3</th>\n",
       "      <td>4</td>\n",
       "      <td>1</td>\n",
       "      <td>1</td>\n",
       "      <td>29.8</td>\n",
       "      <td>17.1</td>\n",
       "      <td>43.44</td>\n",
       "      <td>control</td>\n",
       "      <td>diabetes</td>\n",
       "      <td>74.0</td>\n",
       "      <td>60.0</td>\n",
       "      <td>62.0</td>\n",
       "      <td>12.0</td>\n",
       "    </tr>\n",
       "    <tr>\n",
       "      <th>4</th>\n",
       "      <td>5</td>\n",
       "      <td>9</td>\n",
       "      <td>1</td>\n",
       "      <td>34.0</td>\n",
       "      <td>12.2</td>\n",
       "      <td>49.99</td>\n",
       "      <td>control</td>\n",
       "      <td>heart disease</td>\n",
       "      <td>68.0</td>\n",
       "      <td>55.0</td>\n",
       "      <td>56.0</td>\n",
       "      <td>12.0</td>\n",
       "    </tr>\n",
       "  </tbody>\n",
       "</table>\n",
       "</div>"
      ],
      "text/plain": [
       "   Unnamed: 0  Id  sex   BMI  duration    age treatment       coexists  \\\n",
       "0           1  22    1  45.9      13.3  56.25   control           none   \n",
       "1           2  11    1  28.7       9.2  47.21   control   hypertension   \n",
       "2           3  36    1  35.5       6.7  59.56   tai chi   hypertension   \n",
       "3           4   1    1  29.8      17.1  43.44   control       diabetes   \n",
       "4           5   9    1  34.0      12.2  49.99   control  heart disease   \n",
       "\n",
       "   FIQ_baseline  FIQ_12W  FIQ_24W  difference  \n",
       "0          57.0     52.0     50.0         7.0  \n",
       "1          85.0     88.0     85.0         0.0  \n",
       "2          83.0     68.0     68.0        15.0  \n",
       "3          74.0     60.0     62.0        12.0  \n",
       "4          68.0     55.0     56.0        12.0  "
      ]
     },
     "execution_count": 156,
     "metadata": {},
     "output_type": "execute_result"
    }
   ],
   "source": [
    "data['difference'] = data['FIQ_baseline'] - data['FIQ_24W']\n",
    "data.head()"
   ]
  },
  {
   "cell_type": "code",
   "execution_count": 157,
   "metadata": {},
   "outputs": [
    {
     "data": {
      "text/plain": [
       "<matplotlib.axes._subplots.AxesSubplot at 0x2c5714536a0>"
      ]
     },
     "execution_count": 157,
     "metadata": {},
     "output_type": "execute_result"
    },
    {
     "data": {
      "image/png": "[encoded data removed]",
      "text/plain": [
       "<Figure size 648x720 with 1 Axes>"
      ]
     },
     "metadata": {
      "needs_background": "light"
     },
     "output_type": "display_data"
    }
   ],
   "source": [
    "fig, ax = plt.subplots(figsize=(9,10))\n",
    "sns.boxplot(x='treatment', y='difference', data = data)"
   ]
  },
  {
   "cell_type": "markdown",
   "metadata": {},
   "source": [
    "The mean difference of the control treatment is significantly lower than the mean difference of the tai chi treatment.\n",
    "The control mean difference is quite spread out as per the tails of the plot. control group has spread out lower and upper value while\n",
    "those of the tai chi treatment are quite spread together. The tai chi treatment also seems to have equal distribution of data below and \n",
    "above the mean, while the control group, most of the data is above the mean."
   ]
  },
  {
   "cell_type": "markdown",
   "metadata": {},
   "source": [
    "Formulating the hypothesis\n",
    "We are interested in whether there is no difference between the treatment types after 24 weeks of the treatment. We state the null hypothesis as:\n",
    "\n",
    "𝐻0 :  𝜇𝑑=0  , i.e., the mean difference is zero. There is no difference between control and tai chi results\n",
    "𝐻1 :  𝜇𝑑≠0 , a two-tail test. There is a difference between control and tai chi results."
   ]
  },
  {
   "cell_type": "code",
   "execution_count": 158,
   "metadata": {},
   "outputs": [],
   "source": [
    "treatment = data.groupby(data['treatment'])"
   ]
  },
  {
   "cell_type": "code",
   "execution_count": 159,
   "metadata": {},
   "outputs": [],
   "source": [
    "Control = list(treatment)[0][1]['FIQ_24W']\n",
    "Taichi = list(treatment)[1][1]['FIQ_24W']"
   ]
  },
  {
   "cell_type": "code",
   "execution_count": 160,
   "metadata": {},
   "outputs": [
    {
     "data": {
      "text/plain": [
       "0    50.0\n",
       "1    85.0\n",
       "3    62.0\n",
       "4    56.0\n",
       "7    54.0\n",
       "Name: FIQ_24W, dtype: float64"
      ]
     },
     "execution_count": 160,
     "metadata": {},
     "output_type": "execute_result"
    }
   ],
   "source": [
    "Control.head()"
   ]
  },
  {
   "cell_type": "code",
   "execution_count": 161,
   "metadata": {},
   "outputs": [
    {
     "data": {
      "text/plain": [
       "2     68.0\n",
       "8     49.0\n",
       "14    58.0\n",
       "24    74.0\n",
       "25    57.0\n",
       "Name: FIQ_24W, dtype: float64"
      ]
     },
     "execution_count": 161,
     "metadata": {},
     "output_type": "execute_result"
    }
   ],
   "source": [
    "Taichi.head()"
   ]
  },
  {
   "cell_type": "code",
   "execution_count": 162,
   "metadata": {},
   "outputs": [
    {
     "data": {
      "text/plain": [
       "160.7646153846154"
      ]
     },
     "execution_count": 162,
     "metadata": {},
     "output_type": "execute_result"
    }
   ],
   "source": [
    "Control.var() #Check for variance in Control treatment"
   ]
  },
  {
   "cell_type": "code",
   "execution_count": 163,
   "metadata": {},
   "outputs": [
    {
     "data": {
      "text/plain": [
       "146.66666666666666"
      ]
     },
     "execution_count": 163,
     "metadata": {},
     "output_type": "execute_result"
    }
   ],
   "source": [
    "Taichi.var() # Check for variance in Taichi treatment"
   ]
  },
  {
   "cell_type": "markdown",
   "metadata": {},
   "source": [
    "The variances are un-equal, hence we cannot use the two-sample t-test with the assumtpion that both dataframes have equal\n",
    "variances. We need to use the Welsch t-test, where equal_var is set to False"
   ]
  },
  {
   "cell_type": "code",
   "execution_count": 164,
   "metadata": {},
   "outputs": [
    {
     "data": {
      "text/plain": [
       "Ttest_indResult(statistic=1.6105588724212019, pvalue=0.11976488652807823)"
      ]
     },
     "execution_count": 164,
     "metadata": {},
     "output_type": "execute_result"
    }
   ],
   "source": [
    "stats.ttest_ind(Control, Taichi, equal_var = False) #Comparing means of Control and Taichi treatments after 24 weeks"
   ]
  },
  {
   "cell_type": "markdown",
   "metadata": {},
   "source": [
    "#Intepreting the results of the two-sample t-test"
   ]
  },
  {
   "cell_type": "markdown",
   "metadata": {},
   "source": [
    "The $p \\approx 0.12$. Because the p-value is much higher than the $\\alpha = 0.05$, we need to reject the null hypothesis that\n",
    "there is no difference between the means of the tai chi treatment and the control treatment. The two treatments are not the same. We therefore adopt the alternative hypothesis"
   ]
  },
  {
   "cell_type": "markdown",
   "metadata": {},
   "source": [
    "\n"
   ]
  },
  {
   "cell_type": "markdown",
   "metadata": {},
   "source": [
    "#### Question 1.2\n",
    "Visualize the data for baseline treatment and treatment after 24 weeks.\n"
   ]
  },
  {
   "cell_type": "code",
   "execution_count": 165,
   "metadata": {},
   "outputs": [
    {
     "data": {
      "text/html": [
       "<div>\n",
       "<style scoped>\n",
       "    .dataframe tbody tr th:only-of-type {\n",
       "        vertical-align: middle;\n",
       "    }\n",
       "\n",
       "    .dataframe tbody tr th {\n",
       "        vertical-align: top;\n",
       "    }\n",
       "\n",
       "    .dataframe thead th {\n",
       "        text-align: right;\n",
       "    }\n",
       "</style>\n",
       "<table border=\"1\" class=\"dataframe\">\n",
       "  <thead>\n",
       "    <tr style=\"text-align: right;\">\n",
       "      <th></th>\n",
       "      <th>Unnamed: 0</th>\n",
       "      <th>Id</th>\n",
       "      <th>sex</th>\n",
       "      <th>BMI</th>\n",
       "      <th>duration</th>\n",
       "      <th>age</th>\n",
       "      <th>treatment</th>\n",
       "      <th>coexists</th>\n",
       "      <th>FIQ_baseline</th>\n",
       "      <th>FIQ_12W</th>\n",
       "      <th>FIQ_24W</th>\n",
       "      <th>difference</th>\n",
       "    </tr>\n",
       "  </thead>\n",
       "  <tbody>\n",
       "    <tr>\n",
       "      <th>0</th>\n",
       "      <td>1</td>\n",
       "      <td>22</td>\n",
       "      <td>1</td>\n",
       "      <td>45.9</td>\n",
       "      <td>13.3</td>\n",
       "      <td>56.25</td>\n",
       "      <td>control</td>\n",
       "      <td>none</td>\n",
       "      <td>57.0</td>\n",
       "      <td>52.0</td>\n",
       "      <td>50.0</td>\n",
       "      <td>7.0</td>\n",
       "    </tr>\n",
       "    <tr>\n",
       "      <th>1</th>\n",
       "      <td>2</td>\n",
       "      <td>11</td>\n",
       "      <td>1</td>\n",
       "      <td>28.7</td>\n",
       "      <td>9.2</td>\n",
       "      <td>47.21</td>\n",
       "      <td>control</td>\n",
       "      <td>hypertension</td>\n",
       "      <td>85.0</td>\n",
       "      <td>88.0</td>\n",
       "      <td>85.0</td>\n",
       "      <td>0.0</td>\n",
       "    </tr>\n",
       "    <tr>\n",
       "      <th>3</th>\n",
       "      <td>4</td>\n",
       "      <td>1</td>\n",
       "      <td>1</td>\n",
       "      <td>29.8</td>\n",
       "      <td>17.1</td>\n",
       "      <td>43.44</td>\n",
       "      <td>control</td>\n",
       "      <td>diabetes</td>\n",
       "      <td>74.0</td>\n",
       "      <td>60.0</td>\n",
       "      <td>62.0</td>\n",
       "      <td>12.0</td>\n",
       "    </tr>\n",
       "    <tr>\n",
       "      <th>4</th>\n",
       "      <td>5</td>\n",
       "      <td>9</td>\n",
       "      <td>1</td>\n",
       "      <td>34.0</td>\n",
       "      <td>12.2</td>\n",
       "      <td>49.99</td>\n",
       "      <td>control</td>\n",
       "      <td>heart disease</td>\n",
       "      <td>68.0</td>\n",
       "      <td>55.0</td>\n",
       "      <td>56.0</td>\n",
       "      <td>12.0</td>\n",
       "    </tr>\n",
       "    <tr>\n",
       "      <th>7</th>\n",
       "      <td>8</td>\n",
       "      <td>19</td>\n",
       "      <td>1</td>\n",
       "      <td>28.1</td>\n",
       "      <td>11.7</td>\n",
       "      <td>51.72</td>\n",
       "      <td>control</td>\n",
       "      <td>none</td>\n",
       "      <td>60.0</td>\n",
       "      <td>54.0</td>\n",
       "      <td>54.0</td>\n",
       "      <td>6.0</td>\n",
       "    </tr>\n",
       "    <tr>\n",
       "      <th>9</th>\n",
       "      <td>10</td>\n",
       "      <td>5</td>\n",
       "      <td>1</td>\n",
       "      <td>31.3</td>\n",
       "      <td>11.4</td>\n",
       "      <td>62.51</td>\n",
       "      <td>control</td>\n",
       "      <td>diabetes</td>\n",
       "      <td>63.0</td>\n",
       "      <td>59.0</td>\n",
       "      <td>61.0</td>\n",
       "      <td>2.0</td>\n",
       "    </tr>\n",
       "    <tr>\n",
       "      <th>10</th>\n",
       "      <td>11</td>\n",
       "      <td>4</td>\n",
       "      <td>1</td>\n",
       "      <td>36.9</td>\n",
       "      <td>10.2</td>\n",
       "      <td>57.22</td>\n",
       "      <td>control</td>\n",
       "      <td>hypertension</td>\n",
       "      <td>50.0</td>\n",
       "      <td>46.0</td>\n",
       "      <td>43.0</td>\n",
       "      <td>7.0</td>\n",
       "    </tr>\n",
       "    <tr>\n",
       "      <th>12</th>\n",
       "      <td>13</td>\n",
       "      <td>3</td>\n",
       "      <td>1</td>\n",
       "      <td>32.2</td>\n",
       "      <td>14.1</td>\n",
       "      <td>40.47</td>\n",
       "      <td>control</td>\n",
       "      <td>none</td>\n",
       "      <td>82.0</td>\n",
       "      <td>70.0</td>\n",
       "      <td>76.0</td>\n",
       "      <td>6.0</td>\n",
       "    </tr>\n",
       "    <tr>\n",
       "      <th>15</th>\n",
       "      <td>16</td>\n",
       "      <td>7</td>\n",
       "      <td>1</td>\n",
       "      <td>31.2</td>\n",
       "      <td>13.4</td>\n",
       "      <td>41.02</td>\n",
       "      <td>control</td>\n",
       "      <td>heart disease</td>\n",
       "      <td>81.0</td>\n",
       "      <td>75.0</td>\n",
       "      <td>71.0</td>\n",
       "      <td>10.0</td>\n",
       "    </tr>\n",
       "    <tr>\n",
       "      <th>16</th>\n",
       "      <td>17</td>\n",
       "      <td>39</td>\n",
       "      <td>0</td>\n",
       "      <td>36.9</td>\n",
       "      <td>11.8</td>\n",
       "      <td>47.57</td>\n",
       "      <td>control</td>\n",
       "      <td>diabetes</td>\n",
       "      <td>80.0</td>\n",
       "      <td>76.0</td>\n",
       "      <td>81.0</td>\n",
       "      <td>-1.0</td>\n",
       "    </tr>\n",
       "    <tr>\n",
       "      <th>17</th>\n",
       "      <td>18</td>\n",
       "      <td>42</td>\n",
       "      <td>1</td>\n",
       "      <td>31.9</td>\n",
       "      <td>16.0</td>\n",
       "      <td>53.91</td>\n",
       "      <td>control</td>\n",
       "      <td>diabetes</td>\n",
       "      <td>77.0</td>\n",
       "      <td>73.0</td>\n",
       "      <td>75.0</td>\n",
       "      <td>2.0</td>\n",
       "    </tr>\n",
       "    <tr>\n",
       "      <th>18</th>\n",
       "      <td>19</td>\n",
       "      <td>18</td>\n",
       "      <td>1</td>\n",
       "      <td>32.7</td>\n",
       "      <td>10.6</td>\n",
       "      <td>48.31</td>\n",
       "      <td>control</td>\n",
       "      <td>diabetes</td>\n",
       "      <td>54.0</td>\n",
       "      <td>51.0</td>\n",
       "      <td>49.0</td>\n",
       "      <td>5.0</td>\n",
       "    </tr>\n",
       "    <tr>\n",
       "      <th>19</th>\n",
       "      <td>20</td>\n",
       "      <td>17</td>\n",
       "      <td>1</td>\n",
       "      <td>35.1</td>\n",
       "      <td>11.0</td>\n",
       "      <td>45.67</td>\n",
       "      <td>control</td>\n",
       "      <td>diabetes</td>\n",
       "      <td>63.0</td>\n",
       "      <td>65.0</td>\n",
       "      <td>62.0</td>\n",
       "      <td>1.0</td>\n",
       "    </tr>\n",
       "    <tr>\n",
       "      <th>20</th>\n",
       "      <td>21</td>\n",
       "      <td>49</td>\n",
       "      <td>0</td>\n",
       "      <td>34.8</td>\n",
       "      <td>13.2</td>\n",
       "      <td>55.60</td>\n",
       "      <td>control</td>\n",
       "      <td>none</td>\n",
       "      <td>82.0</td>\n",
       "      <td>80.0</td>\n",
       "      <td>80.0</td>\n",
       "      <td>2.0</td>\n",
       "    </tr>\n",
       "    <tr>\n",
       "      <th>21</th>\n",
       "      <td>22</td>\n",
       "      <td>12</td>\n",
       "      <td>1</td>\n",
       "      <td>37.5</td>\n",
       "      <td>17.0</td>\n",
       "      <td>49.37</td>\n",
       "      <td>control</td>\n",
       "      <td>none</td>\n",
       "      <td>55.0</td>\n",
       "      <td>52.0</td>\n",
       "      <td>48.0</td>\n",
       "      <td>7.0</td>\n",
       "    </tr>\n",
       "    <tr>\n",
       "      <th>22</th>\n",
       "      <td>23</td>\n",
       "      <td>30</td>\n",
       "      <td>1</td>\n",
       "      <td>39.9</td>\n",
       "      <td>18.5</td>\n",
       "      <td>36.56</td>\n",
       "      <td>control</td>\n",
       "      <td>none</td>\n",
       "      <td>66.0</td>\n",
       "      <td>61.0</td>\n",
       "      <td>60.0</td>\n",
       "      <td>6.0</td>\n",
       "    </tr>\n",
       "    <tr>\n",
       "      <th>23</th>\n",
       "      <td>24</td>\n",
       "      <td>20</td>\n",
       "      <td>1</td>\n",
       "      <td>39.3</td>\n",
       "      <td>19.8</td>\n",
       "      <td>54.39</td>\n",
       "      <td>control</td>\n",
       "      <td>none</td>\n",
       "      <td>80.0</td>\n",
       "      <td>75.0</td>\n",
       "      <td>78.0</td>\n",
       "      <td>2.0</td>\n",
       "    </tr>\n",
       "    <tr>\n",
       "      <th>28</th>\n",
       "      <td>29</td>\n",
       "      <td>23</td>\n",
       "      <td>1</td>\n",
       "      <td>28.7</td>\n",
       "      <td>14.3</td>\n",
       "      <td>51.34</td>\n",
       "      <td>control</td>\n",
       "      <td>diabetes</td>\n",
       "      <td>42.0</td>\n",
       "      <td>35.0</td>\n",
       "      <td>40.0</td>\n",
       "      <td>2.0</td>\n",
       "    </tr>\n",
       "    <tr>\n",
       "      <th>34</th>\n",
       "      <td>35</td>\n",
       "      <td>48</td>\n",
       "      <td>1</td>\n",
       "      <td>43.4</td>\n",
       "      <td>16.7</td>\n",
       "      <td>40.07</td>\n",
       "      <td>control</td>\n",
       "      <td>diabetes</td>\n",
       "      <td>67.0</td>\n",
       "      <td>62.0</td>\n",
       "      <td>66.0</td>\n",
       "      <td>1.0</td>\n",
       "    </tr>\n",
       "    <tr>\n",
       "      <th>35</th>\n",
       "      <td>36</td>\n",
       "      <td>31</td>\n",
       "      <td>1</td>\n",
       "      <td>35.1</td>\n",
       "      <td>-1.8</td>\n",
       "      <td>34.66</td>\n",
       "      <td>control</td>\n",
       "      <td>none</td>\n",
       "      <td>79.0</td>\n",
       "      <td>71.0</td>\n",
       "      <td>71.0</td>\n",
       "      <td>8.0</td>\n",
       "    </tr>\n",
       "    <tr>\n",
       "      <th>37</th>\n",
       "      <td>38</td>\n",
       "      <td>44</td>\n",
       "      <td>0</td>\n",
       "      <td>41.9</td>\n",
       "      <td>13.0</td>\n",
       "      <td>59.45</td>\n",
       "      <td>control</td>\n",
       "      <td>none</td>\n",
       "      <td>61.0</td>\n",
       "      <td>52.0</td>\n",
       "      <td>55.0</td>\n",
       "      <td>6.0</td>\n",
       "    </tr>\n",
       "    <tr>\n",
       "      <th>38</th>\n",
       "      <td>39</td>\n",
       "      <td>26</td>\n",
       "      <td>1</td>\n",
       "      <td>25.0</td>\n",
       "      <td>11.4</td>\n",
       "      <td>52.45</td>\n",
       "      <td>control</td>\n",
       "      <td>diabetes</td>\n",
       "      <td>53.0</td>\n",
       "      <td>51.0</td>\n",
       "      <td>55.0</td>\n",
       "      <td>-2.0</td>\n",
       "    </tr>\n",
       "    <tr>\n",
       "      <th>39</th>\n",
       "      <td>40</td>\n",
       "      <td>43</td>\n",
       "      <td>1</td>\n",
       "      <td>40.8</td>\n",
       "      <td>13.4</td>\n",
       "      <td>54.88</td>\n",
       "      <td>control</td>\n",
       "      <td>none</td>\n",
       "      <td>45.0</td>\n",
       "      <td>41.0</td>\n",
       "      <td>43.0</td>\n",
       "      <td>2.0</td>\n",
       "    </tr>\n",
       "    <tr>\n",
       "      <th>40</th>\n",
       "      <td>41</td>\n",
       "      <td>6</td>\n",
       "      <td>1</td>\n",
       "      <td>25.9</td>\n",
       "      <td>8.9</td>\n",
       "      <td>57.60</td>\n",
       "      <td>control</td>\n",
       "      <td>none</td>\n",
       "      <td>63.0</td>\n",
       "      <td>56.0</td>\n",
       "      <td>54.0</td>\n",
       "      <td>9.0</td>\n",
       "    </tr>\n",
       "    <tr>\n",
       "      <th>47</th>\n",
       "      <td>48</td>\n",
       "      <td>10</td>\n",
       "      <td>0</td>\n",
       "      <td>38.9</td>\n",
       "      <td>16.9</td>\n",
       "      <td>60.02</td>\n",
       "      <td>control</td>\n",
       "      <td>none</td>\n",
       "      <td>66.0</td>\n",
       "      <td>65.0</td>\n",
       "      <td>67.0</td>\n",
       "      <td>-1.0</td>\n",
       "    </tr>\n",
       "    <tr>\n",
       "      <th>48</th>\n",
       "      <td>49</td>\n",
       "      <td>45</td>\n",
       "      <td>1</td>\n",
       "      <td>30.9</td>\n",
       "      <td>16.8</td>\n",
       "      <td>55.88</td>\n",
       "      <td>control</td>\n",
       "      <td>diabetes</td>\n",
       "      <td>66.0</td>\n",
       "      <td>59.0</td>\n",
       "      <td>63.0</td>\n",
       "      <td>3.0</td>\n",
       "    </tr>\n",
       "  </tbody>\n",
       "</table>\n",
       "</div>"
      ],
      "text/plain": [
       "    Unnamed: 0  Id  sex   BMI  duration    age treatment       coexists  \\\n",
       "0            1  22    1  45.9      13.3  56.25   control           none   \n",
       "1            2  11    1  28.7       9.2  47.21   control   hypertension   \n",
       "3            4   1    1  29.8      17.1  43.44   control       diabetes   \n",
       "4            5   9    1  34.0      12.2  49.99   control  heart disease   \n",
       "7            8  19    1  28.1      11.7  51.72   control           none   \n",
       "9           10   5    1  31.3      11.4  62.51   control       diabetes   \n",
       "10          11   4    1  36.9      10.2  57.22   control   hypertension   \n",
       "12          13   3    1  32.2      14.1  40.47   control           none   \n",
       "15          16   7    1  31.2      13.4  41.02   control  heart disease   \n",
       "16          17  39    0  36.9      11.8  47.57   control       diabetes   \n",
       "17          18  42    1  31.9      16.0  53.91   control       diabetes   \n",
       "18          19  18    1  32.7      10.6  48.31   control       diabetes   \n",
       "19          20  17    1  35.1      11.0  45.67   control       diabetes   \n",
       "20          21  49    0  34.8      13.2  55.60   control           none   \n",
       "21          22  12    1  37.5      17.0  49.37   control           none   \n",
       "22          23  30    1  39.9      18.5  36.56   control           none   \n",
       "23          24  20    1  39.3      19.8  54.39   control           none   \n",
       "28          29  23    1  28.7      14.3  51.34   control       diabetes   \n",
       "34          35  48    1  43.4      16.7  40.07   control       diabetes   \n",
       "35          36  31    1  35.1      -1.8  34.66   control           none   \n",
       "37          38  44    0  41.9      13.0  59.45   control           none   \n",
       "38          39  26    1  25.0      11.4  52.45   control       diabetes   \n",
       "39          40  43    1  40.8      13.4  54.88   control           none   \n",
       "40          41   6    1  25.9       8.9  57.60   control           none   \n",
       "47          48  10    0  38.9      16.9  60.02   control           none   \n",
       "48          49  45    1  30.9      16.8  55.88   control       diabetes   \n",
       "\n",
       "    FIQ_baseline  FIQ_12W  FIQ_24W  difference  \n",
       "0           57.0     52.0     50.0         7.0  \n",
       "1           85.0     88.0     85.0         0.0  \n",
       "3           74.0     60.0     62.0        12.0  \n",
       "4           68.0     55.0     56.0        12.0  \n",
       "7           60.0     54.0     54.0         6.0  \n",
       "9           63.0     59.0     61.0         2.0  \n",
       "10          50.0     46.0     43.0         7.0  \n",
       "12          82.0     70.0     76.0         6.0  \n",
       "15          81.0     75.0     71.0        10.0  \n",
       "16          80.0     76.0     81.0        -1.0  \n",
       "17          77.0     73.0     75.0         2.0  \n",
       "18          54.0     51.0     49.0         5.0  \n",
       "19          63.0     65.0     62.0         1.0  \n",
       "20          82.0     80.0     80.0         2.0  \n",
       "21          55.0     52.0     48.0         7.0  \n",
       "22          66.0     61.0     60.0         6.0  \n",
       "23          80.0     75.0     78.0         2.0  \n",
       "28          42.0     35.0     40.0         2.0  \n",
       "34          67.0     62.0     66.0         1.0  \n",
       "35          79.0     71.0     71.0         8.0  \n",
       "37          61.0     52.0     55.0         6.0  \n",
       "38          53.0     51.0     55.0        -2.0  \n",
       "39          45.0     41.0     43.0         2.0  \n",
       "40          63.0     56.0     54.0         9.0  \n",
       "47          66.0     65.0     67.0        -1.0  \n",
       "48          66.0     59.0     63.0         3.0  "
      ]
     },
     "execution_count": 165,
     "metadata": {},
     "output_type": "execute_result"
    }
   ],
   "source": [
    "control  = list(treatment)[0][1]\n",
    "control"
   ]
  },
  {
   "cell_type": "code",
   "execution_count": 166,
   "metadata": {},
   "outputs": [
    {
     "data": {
      "text/plain": [
       "<matplotlib.axes._subplots.AxesSubplot at 0x2c571449828>"
      ]
     },
     "execution_count": 166,
     "metadata": {},
     "output_type": "execute_result"
    },
    {
     "data": {
      "image/png": "[encoded data removed]",
      "text/plain": [
       "<Figure size 432x288 with 1 Axes>"
      ]
     },
     "metadata": {
      "needs_background": "light"
     },
     "output_type": "display_data"
    }
   ],
   "source": [
    "sns.boxplot(data=control.loc[:,['FIQ_baseline','FIQ_24W']])"
   ]
  },
  {
   "cell_type": "markdown",
   "metadata": {},
   "source": [
    "#### Question 1.3\n",
    "Formulate an hypothesis about pain severity before and after treatment in 24 weeks."
   ]
  },
  {
   "cell_type": "code",
   "execution_count": 167,
   "metadata": {},
   "outputs": [
    {
     "name": "stdout",
     "output_type": "stream",
     "text": [
      "4.38461538461538\n"
     ]
    }
   ],
   "source": [
    "print(abs(control['FIQ_baseline'].mean() - control['FIQ_24W'].mean()))"
   ]
  },
  {
   "cell_type": "markdown",
   "metadata": {},
   "source": [
    "On average, there is a difference in the pain severity before and after treatment of 4.38. Is this difference significant?\n",
    "\n",
    "Formulating the hypothesis\n",
    "We can now state our hypothesis. We are interested in whether there is no difference between the the severity of pain symptoms before the start of the control treatment and after 24 weeks of the control treatment. We state the null hypothesis as:\n",
    "\n",
    "𝐻0 :  𝜇𝑑=0  , i.e., the mean difference is zero.\n",
    "\n",
    "𝐻1 :  𝜇𝑑≠0 , a two-tail test. There is a difference attributed to the control treatment."
   ]
  },
  {
   "cell_type": "code",
   "execution_count": 168,
   "metadata": {},
   "outputs": [
    {
     "data": {
      "text/plain": [
       "Ttest_relResult(statistic=5.659397979375456, pvalue=6.8417665401796045e-06)"
      ]
     },
     "execution_count": 168,
     "metadata": {},
     "output_type": "execute_result"
    }
   ],
   "source": [
    "stats.ttest_rel(control['FIQ_baseline'], \n",
    "                control['FIQ_24W'])"
   ]
  },
  {
   "cell_type": "markdown",
   "metadata": {},
   "source": [
    "#### Question 1.4 \n",
    "Discuss your results."
   ]
  },
  {
   "cell_type": "markdown",
   "metadata": {
    "collapsed": true
   },
   "source": [
    "Interpreting the results We got a  𝑝≈0.0000068 , which is significantly less than the significance level of  𝛼=0.05 . I therefore reject the null hypothesis. This means the average pain level before the control treatment is significantly less than the pain level after the control treatment"
   ]
  },
  {
   "cell_type": "markdown",
   "metadata": {
    "collapsed": true
   },
   "source": [
    "### Question 2\n",
    "\n",
    "The following is measurement data on the bonding strength of three types of resin. Are there any differences between the resin material? \n",
    "<img src='assessImg.PNG'>\n",
    "\n",
    "Source: [Analysis of variance (ANOVA) comparing means of more than two groups](https://www.ncbi.nlm.nih.gov/pmc/articles/PMC3916511/)"
   ]
  },
  {
   "cell_type": "markdown",
   "metadata": {
    "collapsed": true
   },
   "source": [
    "The results sugest there is a difference between the resin materials. The $p = 0.001$ which is less than the $\\alpha = 0.05$.\n",
    "The result suggests to reject the null hypothesis that all the group means are the same, and coincidently supports that at least one group mean differs from other group means"
   ]
  }
 ],
 "metadata": {
  "kernelspec": {
   "display_name": "Python 3",
   "language": "python",
   "name": "python3"
  },
  "language_info": {
   "codemirror_mode": {
    "name": "ipython",
    "version": 3
   },
   "file_extension": ".py",
   "mimetype": "text/x-python",
   "name": "python",
   "nbconvert_exporter": "python",
   "pygments_lexer": "ipython3",
   "version": "3.7.1"
  }
 },
 "nbformat": 4,
 "nbformat_minor": 2
}
